{
 "cells": [
  {
   "cell_type": "markdown",
   "metadata": {},
   "source": [
    "#### Import necessary packages"
   ]
  },
  {
   "cell_type": "code",
   "execution_count": 73,
   "metadata": {},
   "outputs": [],
   "source": [
    "import pandas as pd\n",
    "import numpy as np\n",
    "import math\n",
    "from sklearn.metrics import make_scorer\n",
    "from sklearn.preprocessing import StandardScaler\n",
    "from sklearn.ensemble import RandomForestRegressor\n",
    "from sklearn.experimental import enable_halving_search_cv\n",
    "from sklearn.model_selection import HalvingGridSearchCV\n",
    "from sklearn.metrics import mean_squared_error as mse\n",
    "from sklearn.metrics import mean_absolute_error as mae\n",
    "import pickle"
   ]
  },
  {
   "cell_type": "markdown",
   "metadata": {},
   "source": [
    "#### Load the datasets"
   ]
  },
  {
   "cell_type": "code",
   "execution_count": 4,
   "metadata": {},
   "outputs": [],
   "source": [
    "X_train=pd.read_csv(\"X_train.csv\")\n",
    "y_train=pd.read_csv(\"y_train.csv\")"
   ]
  },
  {
   "cell_type": "code",
   "execution_count": 19,
   "metadata": {},
   "outputs": [],
   "source": [
    "X_val=pd.read_csv(\"X_val.csv\")\n",
    "y_val=pd.read_csv(\"y_val.csv\")"
   ]
  },
  {
   "cell_type": "code",
   "execution_count": 20,
   "metadata": {},
   "outputs": [],
   "source": [
    "X_test=pd.read_csv(\"X_test.csv\")\n",
    "y_test=pd.read_csv(\"y_test.csv\")"
   ]
  },
  {
   "cell_type": "code",
   "execution_count": 67,
   "metadata": {},
   "outputs": [],
   "source": [
    "sample_submission1=pd.read_csv(\"recruit-restaurant-visitor-forecasting/sample_submission.csv/sample_Submission.csv\")"
   ]
  },
  {
   "cell_type": "code",
   "execution_count": 21,
   "metadata": {},
   "outputs": [],
   "source": [
    "def rmsle_score(y,y_pred): \n",
    "    \"\"\"\n",
    "    Compute the Root Mean Squared Log Error for prediction y_pred and targets y\n",
    "\n",
    "    Args:\n",
    "        y_pred - numpy array containing log of predictions \n",
    "        y - numpy array containing log of targets \n",
    "    \"\"\"\n",
    "    # to get anti- logs\n",
    "    y = np.expm1(y)\n",
    "    y_pred = np.expm1(y_pred)\n",
    "    \n",
    "    return np.sqrt(np.square(np.log(y_pred + 1) - np.log(y + 1)).mean())\n",
    "\n",
    "# scoring function\n",
    "score = make_scorer(rmsle_score, greater_is_better=False)"
   ]
  },
  {
   "cell_type": "markdown",
   "metadata": {},
   "source": [
    "#### Used HalvingGridSearchCV to find best hyperparameters"
   ]
  },
  {
   "cell_type": "code",
   "execution_count": 59,
   "metadata": {
    "scrolled": true
   },
   "outputs": [
    {
     "name": "stdout",
     "output_type": "stream",
     "text": [
      "n_iterations: 5\n",
      "n_required_iterations: 5\n",
      "n_possible_iterations: 5\n",
      "min_resources_: 2908\n",
      "max_resources_: 235552\n",
      "aggressive_elimination: False\n",
      "factor: 3\n",
      "----------\n",
      "iter: 0\n",
      "n_candidates: 120\n",
      "n_resources: 2908\n",
      "Fitting 5 folds for each of 120 candidates, totalling 600 fits\n",
      "----------\n",
      "iter: 1\n",
      "n_candidates: 40\n",
      "n_resources: 8724\n",
      "Fitting 5 folds for each of 40 candidates, totalling 200 fits\n",
      "----------\n",
      "iter: 2\n",
      "n_candidates: 14\n",
      "n_resources: 26172\n",
      "Fitting 5 folds for each of 14 candidates, totalling 70 fits\n",
      "----------\n",
      "iter: 3\n",
      "n_candidates: 5\n",
      "n_resources: 78516\n",
      "Fitting 5 folds for each of 5 candidates, totalling 25 fits\n",
      "----------\n",
      "iter: 4\n",
      "n_candidates: 2\n",
      "n_resources: 235548\n",
      "Fitting 5 folds for each of 2 candidates, totalling 10 fits\n"
     ]
    }
   ],
   "source": [
    "params = {\n",
    "    'n_estimators' : [50,100,150,200],\n",
    "    'max_depth':[1,5,10,50,100,150],\n",
    "    'min_samples_split': [2,3,4,5,6]\n",
    "}\n",
    "model=RandomForestRegressor()\n",
    "grid_kn = HalvingGridSearchCV(estimator = model,\n",
    "                        param_grid = params, \n",
    "                        cv = 5,\n",
    "                        scoring=score,\n",
    "                        verbose = 1,\n",
    "                        n_jobs = -1)\n",
    "grid_kn.fit(X_train, np.log1p(y_train['visitors']))\n",
    "pd.DataFrame(grid_kn.cv_results_).to_csv('RandomForestRegressor_cv_result.csv')"
   ]
  },
  {
   "cell_type": "code",
   "execution_count": 60,
   "metadata": {},
   "outputs": [
    {
     "data": {
      "text/plain": [
       "{'max_depth': 5, 'min_samples_split': 5, 'n_estimators': 200}"
      ]
     },
     "execution_count": 60,
     "metadata": {},
     "output_type": "execute_result"
    }
   ],
   "source": [
    "rf_cv.best_params_"
   ]
  },
  {
   "cell_type": "code",
   "execution_count": 61,
   "metadata": {},
   "outputs": [
    {
     "data": {
      "text/plain": [
       "RandomForestRegressor(max_depth=5, min_samples_split=5, n_estimators=200)"
      ]
     },
     "execution_count": 61,
     "metadata": {},
     "output_type": "execute_result"
    }
   ],
   "source": [
    "model=RandomForestRegressor(max_depth=5,\n",
    "                            min_samples_split=5,\n",
    "                            n_estimators=200)\n",
    "model.fit(X=X_train,y=np.log1p(y_train['visitors']))"
   ]
  },
  {
   "cell_type": "code",
   "execution_count": 62,
   "metadata": {},
   "outputs": [],
   "source": [
    "y_pred=model.predict(X_train)"
   ]
  },
  {
   "cell_type": "code",
   "execution_count": 63,
   "metadata": {},
   "outputs": [],
   "source": [
    "y_pred_val=model.predict(X_val)"
   ]
  },
  {
   "cell_type": "code",
   "execution_count": 47,
   "metadata": {},
   "outputs": [],
   "source": [
    "def rmsle(y_true,y_pred): \n",
    "    \"\"\"\n",
    "    Compute the Root Mean Squared Log Error for prediction y_pred and targets y_true\n",
    "\n",
    "    Args:\n",
    "        y_pred - numpy array containing predictions \n",
    "        y_true - numpy array containing targets \n",
    "    \"\"\"\n",
    "    return np.sqrt(np.square(np.log(y_pred + 1) - np.log(y_true + 1)).mean())"
   ]
  },
  {
   "cell_type": "markdown",
   "metadata": {},
   "source": [
    "#### Evaluation metrics for both train and validation data"
   ]
  },
  {
   "cell_type": "code",
   "execution_count": 64,
   "metadata": {},
   "outputs": [
    {
     "name": "stdout",
     "output_type": "stream",
     "text": [
      "+-----------------------+--------------------+--------------------+--------------------+-------------------+\n",
      "| RandomForestRegressor |       RMSLE        |        RMSE        |        MSE         |        MAE        |\n",
      "+-----------------------+--------------------+--------------------+--------------------+-------------------+\n",
      "|       Train data      | 0.5193416015185925 | 11.182838291255965 | 125.05587224838064 | 7.065978285033292 |\n",
      "|    Validation data    | 0.5137078160685651 | 11.837433644103967 | 140.12483527856455 | 7.060547736492576 |\n",
      "+-----------------------+--------------------+--------------------+--------------------+-------------------+\n"
     ]
    }
   ],
   "source": [
    "from prettytable import PrettyTable\n",
    "    \n",
    "x = PrettyTable()\n",
    "\n",
    "x.field_names = [\"RandomForestRegressor\", \"RMSLE\", \"RMSE\",\"MSE\",\"MAE\"]\n",
    "\n",
    "x.add_row([\"Train data\",rmsle(y_true=(y_train['visitors']),y_pred=np.expm1(y_pred)),\n",
    "           math.sqrt(mse(np.expm1(y_pred),(y_train['visitors']))),mse(np.expm1(y_pred),\n",
    "            (y_train['visitors'])),mae(np.expm1(y_pred),(y_train['visitors']))])\n",
    "x.add_row([\"Validation data\",rmsle(y_true=(y_val['visitors']),y_pred=np.expm1(y_pred_val)),\n",
    "           math.sqrt(mse(np.expm1(y_pred_val),(y_val['visitors']))),mse(np.expm1(y_pred_val),\n",
    "            (y_val['visitors'])),mae(np.expm1(y_pred_val),(y_val['visitors']))])\n",
    "\n",
    "print(x)\n",
    "    "
   ]
  },
  {
   "cell_type": "markdown",
   "metadata": {},
   "source": [
    "#### Saving the model using pickle"
   ]
  },
  {
   "cell_type": "code",
   "execution_count": 69,
   "metadata": {},
   "outputs": [
    {
     "name": "stdout",
     "output_type": "stream",
     "text": [
      "0.5137078160685651\n"
     ]
    }
   ],
   "source": [
    "filename = 'rf_model.sav'\n",
    "pickle.dump(model, open(filename, 'wb'))\n",
    "loaded_model = pickle.load(open(filename, 'rb'))\n",
    "result = loaded_model.predict(X_val)\n",
    "print(rmsle(y_true=(y_val['visitors']),y_pred=np.expm1(result)))"
   ]
  },
  {
   "cell_type": "markdown",
   "metadata": {},
   "source": [
    "#### Predict for the sample submission data and store it in the .csv file for submission in the kaggle"
   ]
  },
  {
   "cell_type": "code",
   "execution_count": 24,
   "metadata": {},
   "outputs": [],
   "source": [
    "y_test_pred=model.predict(X_test)\n",
    "sample_submission1['visitors']=(np.expm1(y_test_pred)).astype(int)\n",
    "sample_submission1.to_csv(\"Sub_rf.csv\",index=False)"
   ]
  }
 ],
 "metadata": {
  "kernelspec": {
   "display_name": "Python 3",
   "language": "python",
   "name": "python3"
  },
  "language_info": {
   "codemirror_mode": {
    "name": "ipython",
    "version": 3
   },
   "file_extension": ".py",
   "mimetype": "text/x-python",
   "name": "python",
   "nbconvert_exporter": "python",
   "pygments_lexer": "ipython3",
   "version": "3.7.6"
  }
 },
 "nbformat": 4,
 "nbformat_minor": 4
}
