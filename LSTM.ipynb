{
 "cells": [
  {
   "cell_type": "markdown",
   "metadata": {},
   "source": [
    "#### Import necessary packages"
   ]
  },
  {
   "cell_type": "code",
   "execution_count": 3,
   "metadata": {},
   "outputs": [],
   "source": [
    "import pandas as pd\n",
    "import numpy as np\n",
    "import math\n",
    "from keras.models import Sequential\n",
    "from keras.layers import Dense\n",
    "from keras.layers import LSTM\n",
    "from sklearn.metrics import mean_squared_error as mse\n",
    "from sklearn.metrics import mean_absolute_error as mae"
   ]
  },
  {
   "cell_type": "markdown",
   "metadata": {},
   "source": [
    "#### Load the datasets"
   ]
  },
  {
   "cell_type": "code",
   "execution_count": 4,
   "metadata": {},
   "outputs": [],
   "source": [
    "X_train=pd.read_csv(\"X_train.csv\")\n",
    "y_train=pd.read_csv(\"y_train.csv\")"
   ]
  },
  {
   "cell_type": "code",
   "execution_count": 5,
   "metadata": {},
   "outputs": [],
   "source": [
    "X_val=pd.read_csv(\"X_val.csv\")\n",
    "y_val=pd.read_csv(\"y_val.csv\")"
   ]
  },
  {
   "cell_type": "code",
   "execution_count": 98,
   "metadata": {},
   "outputs": [],
   "source": [
    "X_test=pd.read_csv(\"X_test.csv\")\n",
    "y_test=pd.read_csv(\"y_test.csv\")"
   ]
  },
  {
   "cell_type": "code",
   "execution_count": 103,
   "metadata": {},
   "outputs": [],
   "source": [
    "sample_submission1=pd.read_csv(\"recruit-restaurant-visitor-forecasting/sample_submission.csv/sample_Submission.csv\")"
   ]
  },
  {
   "cell_type": "code",
   "execution_count": 6,
   "metadata": {},
   "outputs": [],
   "source": [
    "X_train=X_train.values.reshape(X_train.shape[0],1,13)\n",
    "X_val=X_val.values.reshape(X_val.shape[0],1,13)"
   ]
  },
  {
   "cell_type": "code",
   "execution_count": 65,
   "metadata": {},
   "outputs": [],
   "source": [
    "X_val=X_val.values.reshape(X_val.shape[0],1,13)"
   ]
  },
  {
   "cell_type": "code",
   "execution_count": 96,
   "metadata": {},
   "outputs": [],
   "source": [
    "# create and fit the LSTM network\n",
    "def create_LSTM(X,y):\n",
    "    model = Sequential()\n",
    "    model.add(LSTM(100, input_shape=(1, X.shape[2])))\n",
    "    model.add(Dense(10))\n",
    "    model.add(Dense(1))\n",
    "    model.compile(loss='mean_squared_error', optimizer='adam')\n",
    "    model.fit(X, np.log1p(y['visitors']), epochs=100, batch_size=1000, verbose=2)"
   ]
  },
  {
   "cell_type": "code",
   "execution_count": 97,
   "metadata": {
    "scrolled": false
   },
   "outputs": [
    {
     "name": "stdout",
     "output_type": "stream",
     "text": [
      "Epoch 1/100\n",
      "236/236 - 3s - loss: 0.8993\n",
      "Epoch 2/100\n",
      "236/236 - 3s - loss: 0.6498\n",
      "Epoch 3/100\n",
      "236/236 - 3s - loss: 0.6499\n",
      "Epoch 4/100\n",
      "236/236 - 3s - loss: 0.6500\n",
      "Epoch 5/100\n",
      "236/236 - 3s - loss: 0.6500\n",
      "Epoch 6/100\n",
      "236/236 - 3s - loss: 0.6500\n",
      "Epoch 7/100\n",
      "236/236 - 3s - loss: 0.6500\n",
      "Epoch 8/100\n",
      "236/236 - 3s - loss: 0.6500\n",
      "Epoch 9/100\n",
      "236/236 - 3s - loss: 0.6501\n",
      "Epoch 10/100\n",
      "236/236 - 4s - loss: 0.6502\n",
      "Epoch 11/100\n",
      "236/236 - 4s - loss: 0.6501\n",
      "Epoch 12/100\n",
      "236/236 - 3s - loss: 0.6505\n",
      "Epoch 13/100\n",
      "236/236 - 4s - loss: 0.6507\n",
      "Epoch 14/100\n",
      "236/236 - 3s - loss: 0.6507\n",
      "Epoch 15/100\n",
      "236/236 - 3s - loss: 0.6504\n",
      "Epoch 16/100\n",
      "236/236 - 4s - loss: 0.6503\n",
      "Epoch 17/100\n",
      "236/236 - 4s - loss: 0.6505\n",
      "Epoch 18/100\n",
      "236/236 - 3s - loss: 0.6505\n",
      "Epoch 19/100\n",
      "236/236 - 4s - loss: 0.6505\n",
      "Epoch 20/100\n",
      "236/236 - 3s - loss: 0.6506\n",
      "Epoch 21/100\n",
      "236/236 - 3s - loss: 0.6512\n",
      "Epoch 22/100\n",
      "236/236 - 3s - loss: 0.6506\n",
      "Epoch 23/100\n",
      "236/236 - 4s - loss: 0.6502\n",
      "Epoch 24/100\n",
      "236/236 - 5s - loss: 0.6504\n",
      "Epoch 25/100\n",
      "236/236 - 4s - loss: 0.6505\n",
      "Epoch 26/100\n",
      "236/236 - 4s - loss: 0.6510\n",
      "Epoch 27/100\n",
      "236/236 - 4s - loss: 0.6505\n",
      "Epoch 28/100\n",
      "236/236 - 4s - loss: 0.6506\n",
      "Epoch 29/100\n",
      "236/236 - 3s - loss: 0.6506\n",
      "Epoch 30/100\n",
      "236/236 - 3s - loss: 0.6510\n",
      "Epoch 31/100\n",
      "236/236 - 3s - loss: 0.6502\n",
      "Epoch 32/100\n",
      "236/236 - 3s - loss: 0.6507\n",
      "Epoch 33/100\n",
      "236/236 - 3s - loss: 0.6507\n",
      "Epoch 34/100\n",
      "236/236 - 3s - loss: 0.6509\n",
      "Epoch 35/100\n",
      "236/236 - 3s - loss: 0.6504\n",
      "Epoch 36/100\n",
      "236/236 - 3s - loss: 0.6503\n",
      "Epoch 37/100\n",
      "236/236 - 3s - loss: 0.6505\n",
      "Epoch 38/100\n",
      "236/236 - 3s - loss: 0.6505\n",
      "Epoch 39/100\n",
      "236/236 - 3s - loss: 0.6507\n",
      "Epoch 40/100\n",
      "236/236 - 3s - loss: 0.6502\n",
      "Epoch 41/100\n",
      "236/236 - 4s - loss: 0.6506\n",
      "Epoch 42/100\n",
      "236/236 - 4s - loss: 0.6503\n",
      "Epoch 43/100\n",
      "236/236 - 4s - loss: 0.6508\n",
      "Epoch 44/100\n",
      "236/236 - 4s - loss: 0.6506\n",
      "Epoch 45/100\n",
      "236/236 - 4s - loss: 0.6506\n",
      "Epoch 46/100\n",
      "236/236 - 4s - loss: 0.6505\n",
      "Epoch 47/100\n",
      "236/236 - 5s - loss: 0.6507\n",
      "Epoch 48/100\n",
      "236/236 - 5s - loss: 0.6504\n",
      "Epoch 49/100\n",
      "236/236 - 4s - loss: 0.6502\n",
      "Epoch 50/100\n",
      "236/236 - 3s - loss: 0.6507\n",
      "Epoch 51/100\n",
      "236/236 - 3s - loss: 0.6502\n",
      "Epoch 52/100\n",
      "236/236 - 4s - loss: 0.6505\n",
      "Epoch 53/100\n",
      "236/236 - 6s - loss: 0.6504\n",
      "Epoch 54/100\n",
      "236/236 - 5s - loss: 0.6505\n",
      "Epoch 55/100\n",
      "236/236 - 5s - loss: 0.6508\n",
      "Epoch 56/100\n",
      "236/236 - 5s - loss: 0.6505\n",
      "Epoch 57/100\n",
      "236/236 - 5s - loss: 0.6503\n",
      "Epoch 58/100\n",
      "236/236 - 4s - loss: 0.6506\n",
      "Epoch 59/100\n",
      "236/236 - 5s - loss: 0.6503\n",
      "Epoch 60/100\n",
      "236/236 - 4s - loss: 0.6505\n",
      "Epoch 61/100\n",
      "236/236 - 4s - loss: 0.6507\n",
      "Epoch 62/100\n",
      "236/236 - 3s - loss: 0.6502\n",
      "Epoch 63/100\n",
      "236/236 - 3s - loss: 0.6504\n",
      "Epoch 64/100\n",
      "236/236 - 3s - loss: 0.6506\n",
      "Epoch 65/100\n",
      "236/236 - 3s - loss: 0.6505\n",
      "Epoch 66/100\n",
      "236/236 - 3s - loss: 0.6503\n",
      "Epoch 67/100\n",
      "236/236 - 3s - loss: 0.6501\n",
      "Epoch 68/100\n",
      "236/236 - 4s - loss: 0.6505\n",
      "Epoch 69/100\n",
      "236/236 - 3s - loss: 0.6507\n",
      "Epoch 70/100\n",
      "236/236 - 4s - loss: 0.6502\n",
      "Epoch 71/100\n",
      "236/236 - 5s - loss: 0.6502\n",
      "Epoch 72/100\n",
      "236/236 - 3s - loss: 0.6509\n",
      "Epoch 73/100\n",
      "236/236 - 4s - loss: 0.6504\n",
      "Epoch 74/100\n",
      "236/236 - 4s - loss: 0.6503\n",
      "Epoch 75/100\n",
      "236/236 - 4s - loss: 0.6503\n",
      "Epoch 76/100\n",
      "236/236 - 4s - loss: 0.6504\n",
      "Epoch 77/100\n",
      "236/236 - 4s - loss: 0.6503\n",
      "Epoch 78/100\n",
      "236/236 - 3s - loss: 0.6504\n",
      "Epoch 79/100\n",
      "236/236 - 3s - loss: 0.6504\n",
      "Epoch 80/100\n",
      "236/236 - 4s - loss: 0.6503\n",
      "Epoch 81/100\n",
      "236/236 - 5s - loss: 0.6502\n",
      "Epoch 82/100\n",
      "236/236 - 3s - loss: 0.6506\n",
      "Epoch 83/100\n",
      "236/236 - 3s - loss: 0.6506\n",
      "Epoch 84/100\n",
      "236/236 - 3s - loss: 0.6504\n",
      "Epoch 85/100\n",
      "236/236 - 3s - loss: 0.6503\n",
      "Epoch 86/100\n",
      "236/236 - 3s - loss: 0.6505\n",
      "Epoch 87/100\n",
      "236/236 - 3s - loss: 0.6506\n",
      "Epoch 88/100\n",
      "236/236 - 4s - loss: 0.6505\n",
      "Epoch 89/100\n",
      "236/236 - 5s - loss: 0.6502\n",
      "Epoch 90/100\n",
      "236/236 - 4s - loss: 0.6504\n",
      "Epoch 91/100\n",
      "236/236 - 5s - loss: 0.6504\n",
      "Epoch 92/100\n",
      "236/236 - 4s - loss: 0.6505\n",
      "Epoch 93/100\n",
      "236/236 - 3s - loss: 0.6505\n",
      "Epoch 94/100\n",
      "236/236 - 3s - loss: 0.6503\n",
      "Epoch 95/100\n",
      "236/236 - 3s - loss: 0.6503\n",
      "Epoch 96/100\n",
      "236/236 - 4s - loss: 0.6504\n",
      "Epoch 97/100\n",
      "236/236 - 3s - loss: 0.6503\n",
      "Epoch 98/100\n",
      "236/236 - 3s - loss: 0.6504\n",
      "Epoch 99/100\n",
      "236/236 - 3s - loss: 0.6506\n",
      "Epoch 100/100\n",
      "236/236 - 3s - loss: 0.6501\n"
     ]
    }
   ],
   "source": [
    "create_LSTM(X_train,y_train)"
   ]
  },
  {
   "cell_type": "code",
   "execution_count": 85,
   "metadata": {},
   "outputs": [],
   "source": [
    "y_pred = model.predict(X_train)"
   ]
  },
  {
   "cell_type": "code",
   "execution_count": 86,
   "metadata": {},
   "outputs": [],
   "source": [
    "y_pred_val = model.predict(X_val)"
   ]
  },
  {
   "cell_type": "code",
   "execution_count": 84,
   "metadata": {},
   "outputs": [],
   "source": [
    "def rmsle(y_true,y_pred): \n",
    "    \"\"\"\n",
    "    Compute the Root Mean Squared Log Error for prediction y_pred and targets y_true\n",
    "\n",
    "    Args:\n",
    "        y_pred - numpy array containing predictions \n",
    "        y_true - numpy array containing targets \n",
    "    \"\"\"\n",
    "    return np.sqrt(np.square(np.log(y_pred + 1) - np.log(y_true + 1)).mean())"
   ]
  },
  {
   "cell_type": "markdown",
   "metadata": {},
   "source": [
    "#### Evaluation metrics for both train and validation data"
   ]
  },
  {
   "cell_type": "code",
   "execution_count": 95,
   "metadata": {},
   "outputs": [
    {
     "name": "stdout",
     "output_type": "stream",
     "text": [
      "+-----------------------+--------------------+--------------------+--------------------+--------------------+\n",
      "| RandomForestRegressor |       RMSLE        |        RMSE        |        MSE         |        MAE         |\n",
      "+-----------------------+--------------------+--------------------+--------------------+--------------------+\n",
      "|       Train data      | 0.8060785356800454 | 17.511436978421315 | 306.65042504922144 | 12.105487897949622 |\n",
      "|    Validation data    | 0.8307919865463302 | 19.325348481397057 | 373.46909392743555 | 12.825793219061973 |\n",
      "+-----------------------+--------------------+--------------------+--------------------+--------------------+\n"
     ]
    }
   ],
   "source": [
    "from prettytable import PrettyTable\n",
    "    \n",
    "x = PrettyTable()\n",
    "\n",
    "x.field_names = [\"RandomForestRegressor\", \"RMSLE\", \"RMSE\",\"MSE\",\"MAE\"]\n",
    "\n",
    "x.add_row([\"Train data\",rmsle(y_true=(y_train['visitors'].values.reshape(-1,1)),y_pred=np.expm1(y_pred)),\n",
    "           math.sqrt(mse(np.expm1(y_pred),(y_train['visitors']))),mse(np.expm1(y_pred),\n",
    "            (y_train['visitors'])),mae(np.expm1(y_pred),(y_train['visitors']))])\n",
    "x.add_row([\"Validation data\",rmsle(y_true=(y_val['visitors'].values.reshape(-1,1)),y_pred=np.expm1(y_pred_val)),\n",
    "           math.sqrt(mse(np.expm1(y_pred_val),(y_val['visitors']))),mse(np.expm1(y_pred_val),\n",
    "            (y_val['visitors'])),mae(np.expm1(y_pred_val),(y_val['visitors']))])\n",
    "\n",
    "print(x)\n",
    "    "
   ]
  },
  {
   "cell_type": "markdown",
   "metadata": {},
   "source": [
    "#### Predict for sample submission data and store it in .csv file for kaggle submission"
   ]
  },
  {
   "cell_type": "code",
   "execution_count": 100,
   "metadata": {},
   "outputs": [],
   "source": [
    "X_test=X_test.values.reshape(X_test.shape[0],1,13)\n",
    "y_test_pred=model.predict(X_test)\n",
    "sample_submission1['visitors']=(np.expm1(y_test_pred)).astype(int)\n",
    "sample_submission1.to_csv(\"Sub_lstm.csv\",index=False)"
   ]
  },
  {
   "cell_type": "code",
   "execution_count": null,
   "metadata": {},
   "outputs": [],
   "source": []
  }
 ],
 "metadata": {
  "kernelspec": {
   "display_name": "Python 3",
   "language": "python",
   "name": "python3"
  },
  "language_info": {
   "codemirror_mode": {
    "name": "ipython",
    "version": 3
   },
   "file_extension": ".py",
   "mimetype": "text/x-python",
   "name": "python",
   "nbconvert_exporter": "python",
   "pygments_lexer": "ipython3",
   "version": "3.7.6"
  }
 },
 "nbformat": 4,
 "nbformat_minor": 4
}
