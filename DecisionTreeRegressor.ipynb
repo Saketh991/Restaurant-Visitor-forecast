{
 "cells": [
  {
   "cell_type": "markdown",
   "metadata": {},
   "source": [
    "#### Import necessary packages"
   ]
  },
  {
   "cell_type": "code",
   "execution_count": 26,
   "metadata": {},
   "outputs": [],
   "source": [
    "import pandas as pd\n",
    "import numpy as np\n",
    "import math\n",
    "import pickle\n",
    "from sklearn.metrics import make_scorer\n",
    "from sklearn.tree import DecisionTreeRegressor\n",
    "from sklearn.model_selection import GridSearchCV\n",
    "from sklearn.preprocessing import StandardScaler\n",
    "from sklearn.metrics import mean_squared_error as mse\n",
    "from sklearn.metrics import mean_absolute_error as mae"
   ]
  },
  {
   "cell_type": "markdown",
   "metadata": {},
   "source": [
    "#### Load the datasets"
   ]
  },
  {
   "cell_type": "code",
   "execution_count": 2,
   "metadata": {},
   "outputs": [],
   "source": [
    "X_train=pd.read_csv(\"X_train.csv\")\n",
    "y_train=pd.read_csv(\"y_train.csv\")"
   ]
  },
  {
   "cell_type": "code",
   "execution_count": 3,
   "metadata": {},
   "outputs": [],
   "source": [
    "X_val=pd.read_csv(\"X_val.csv\")\n",
    "y_val=pd.read_csv(\"y_val.csv\")"
   ]
  },
  {
   "cell_type": "code",
   "execution_count": 4,
   "metadata": {},
   "outputs": [],
   "source": [
    "X_test=pd.read_csv(\"X_test.csv\")\n",
    "y_test=pd.read_csv(\"y_test.csv\")"
   ]
  },
  {
   "cell_type": "code",
   "execution_count": 14,
   "metadata": {},
   "outputs": [],
   "source": [
    "sample_submission1=pd.read_csv(\"recruit-restaurant-visitor-forecasting (1)/sample_submission.csv/sample_Submission.csv\")"
   ]
  },
  {
   "cell_type": "code",
   "execution_count": 5,
   "metadata": {},
   "outputs": [],
   "source": [
    "def rmsle_score(y,y_pred): \n",
    "    \"\"\"\n",
    "    Compute the Root Mean Squared Log Error for prediction y_pred and targets y\n",
    "\n",
    "    Args:\n",
    "        y_pred - numpy array containing log of predictions \n",
    "        y - numpy array containing log of targets \n",
    "    \"\"\"\n",
    "    # to get anti- logs\n",
    "    y = np.expm1(y)\n",
    "    y_pred = np.expm1(y_pred)\n",
    "    \n",
    "    return np.sqrt(np.square(np.log(y_pred + 1) - np.log(y + 1)).mean())\n",
    "\n",
    "# scoring function\n",
    "score = make_scorer(rmsle_score, greater_is_better=False)"
   ]
  },
  {
   "cell_type": "markdown",
   "metadata": {},
   "source": [
    "#### Use GridSearchCV to find best parameters"
   ]
  },
  {
   "cell_type": "code",
   "execution_count": 6,
   "metadata": {},
   "outputs": [
    {
     "name": "stdout",
     "output_type": "stream",
     "text": [
      "Fitting 3 folds for each of 16 candidates, totalling 48 fits\n"
     ]
    }
   ],
   "source": [
    "dt = DecisionTreeRegressor()\n",
    "# hyperparameters\n",
    "parameters = {'max_depth': [1, 5, 10, 50],\n",
    "              'min_samples_split' : [5, 10, 100, 500]}\n",
    "# cross validation\n",
    "dt_cv = GridSearchCV(estimator=dt,\n",
    "                      param_grid=parameters,\n",
    "                      scoring=score,\n",
    "                      n_jobs=-1,\n",
    "                      cv=3,\n",
    "                      verbose=10,\n",
    "                      return_train_score=True)\n",
    "dt_cv.fit(X_train,np.log1p(y_train['visitors']))\n",
    "\n",
    "# saving cv results\n",
    "\n",
    "pd.DataFrame(dt_cv.cv_results_).to_csv('DecisionTreeRegressor_cv_result.csv')"
   ]
  },
  {
   "cell_type": "code",
   "execution_count": 7,
   "metadata": {},
   "outputs": [
    {
     "data": {
      "text/plain": [
       "{'max_depth': 10, 'min_samples_split': 500}"
      ]
     },
     "execution_count": 7,
     "metadata": {},
     "output_type": "execute_result"
    }
   ],
   "source": [
    "# best parameters\n",
    "dt_cv.best_params_"
   ]
  },
  {
   "cell_type": "code",
   "execution_count": 8,
   "metadata": {},
   "outputs": [
    {
     "data": {
      "text/plain": [
       "DecisionTreeRegressor(max_depth=10, min_samples_split=500)"
      ]
     },
     "execution_count": 8,
     "metadata": {},
     "output_type": "execute_result"
    }
   ],
   "source": [
    "dt = DecisionTreeRegressor(max_depth = 10, min_samples_split = 500)\n",
    "dt.fit(X_train,np.log1p(y_train['visitors']))"
   ]
  },
  {
   "cell_type": "code",
   "execution_count": 10,
   "metadata": {},
   "outputs": [],
   "source": [
    "y_pred=dt.predict(X_train)\n",
    "y_pred_val=dt.predict(X_val)"
   ]
  },
  {
   "cell_type": "code",
   "execution_count": 11,
   "metadata": {},
   "outputs": [],
   "source": [
    "def rmsle(y_true,y_pred): \n",
    "    \"\"\"\n",
    "    Compute the Root Mean Squared Log Error for prediction y_pred and targets y_true\n",
    "\n",
    "    Args:\n",
    "        y_pred - numpy array containing predictions \n",
    "        y_true - numpy array containing targets \n",
    "    \"\"\"\n",
    "    return np.sqrt(np.square(np.log(y_pred + 1) - np.log(y_true + 1)).mean())"
   ]
  },
  {
   "cell_type": "markdown",
   "metadata": {},
   "source": [
    "#### Evaluation metrics for both train and validation data"
   ]
  },
  {
   "cell_type": "code",
   "execution_count": 12,
   "metadata": {},
   "outputs": [
    {
     "name": "stdout",
     "output_type": "stream",
     "text": [
      "+-----------------------+--------------------+--------------------+--------------------+-------------------+\n",
      "| RandomForestRegressor |       RMSLE        |        RMSE        |        MSE         |        MAE        |\n",
      "+-----------------------+--------------------+--------------------+--------------------+-------------------+\n",
      "|       Train data      | 0.5088185216033662 | 11.032774420773825 | 121.7221114196812  | 6.901239921532613 |\n",
      "|    Validation data    | 0.5084237807042076 | 11.760736426492095 | 138.31492129341802 | 6.971809489985008 |\n",
      "+-----------------------+--------------------+--------------------+--------------------+-------------------+\n"
     ]
    }
   ],
   "source": [
    "from prettytable import PrettyTable\n",
    "    \n",
    "x = PrettyTable()\n",
    "\n",
    "x.field_names = [\"RandomForestRegressor\", \"RMSLE\", \"RMSE\",\"MSE\",\"MAE\"]\n",
    "\n",
    "x.add_row([\"Train data\",rmsle(y_true=(y_train['visitors']),y_pred=np.expm1(y_pred)),\n",
    "           math.sqrt(mse(np.expm1(y_pred),(y_train['visitors']))),mse(np.expm1(y_pred),\n",
    "            (y_train['visitors'])),mae(np.expm1(y_pred),(y_train['visitors']))])\n",
    "x.add_row([\"Validation data\",rmsle(y_true=(y_val['visitors']),y_pred=np.expm1(y_pred_val)),\n",
    "           math.sqrt(mse(np.expm1(y_pred_val),(y_val['visitors']))),mse(np.expm1(y_pred_val),\n",
    "            (y_val['visitors'])),mae(np.expm1(y_pred_val),(y_val['visitors']))])\n",
    "\n",
    "print(x)"
   ]
  },
  {
   "cell_type": "markdown",
   "metadata": {},
   "source": [
    "#### Saving the model with pickle"
   ]
  },
  {
   "cell_type": "code",
   "execution_count": 19,
   "metadata": {},
   "outputs": [],
   "source": [
    "filename = 'decisiontree_model.sav'\n",
    "pickle.dump(dt, open(filename, 'wb'))"
   ]
  },
  {
   "cell_type": "code",
   "execution_count": 25,
   "metadata": {},
   "outputs": [
    {
     "name": "stdout",
     "output_type": "stream",
     "text": [
      "0.5084237807042076\n"
     ]
    }
   ],
   "source": [
    "loaded_model = pickle.load(open(filename, 'rb'))\n",
    "result = loaded_model.predict(X_val)\n",
    "print(rmsle(y_true=(y_val['visitors']),y_pred=np.expm1(result)))"
   ]
  },
  {
   "cell_type": "markdown",
   "metadata": {},
   "source": [
    "#### Predict for the sample submission data and store it in the .csv file for submission in the kaggle"
   ]
  },
  {
   "cell_type": "code",
   "execution_count": 13,
   "metadata": {},
   "outputs": [],
   "source": [
    "y_test_pred=dt.predict(X_test)\n",
    "sample_submission1['visitors']=(np.expm1(y_test_pred)).astype(int)\n",
    "sample_submission1.to_csv(\"Sub_dt.csv\",index=False)"
   ]
  },
  {
   "cell_type": "code",
   "execution_count": null,
   "metadata": {},
   "outputs": [],
   "source": []
  }
 ],
 "metadata": {
  "kernelspec": {
   "display_name": "Python 3",
   "language": "python",
   "name": "python3"
  },
  "language_info": {
   "codemirror_mode": {
    "name": "ipython",
    "version": 3
   },
   "file_extension": ".py",
   "mimetype": "text/x-python",
   "name": "python",
   "nbconvert_exporter": "python",
   "pygments_lexer": "ipython3",
   "version": "3.7.6"
  }
 },
 "nbformat": 4,
 "nbformat_minor": 4
}
