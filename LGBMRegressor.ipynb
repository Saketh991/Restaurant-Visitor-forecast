{
 "cells": [
  {
   "cell_type": "markdown",
   "metadata": {},
   "source": [
    "#### Import necessary packages"
   ]
  },
  {
   "cell_type": "code",
   "execution_count": 42,
   "metadata": {},
   "outputs": [],
   "source": [
    "import pandas as pd\n",
    "import numpy as np\n",
    "import math\n",
    "import pickle\n",
    "from sklearn.metrics import make_scorer\n",
    "from lightgbm import LGBMRegressor\n",
    "from sklearn.model_selection import GridSearchCV,RandomizedSearchCV\n",
    "from sklearn.metrics import mean_squared_error as mse\n",
    "from sklearn.metrics import mean_absolute_error as mae"
   ]
  },
  {
   "cell_type": "markdown",
   "metadata": {},
   "source": [
    "#### Load the datasets"
   ]
  },
  {
   "cell_type": "code",
   "execution_count": 3,
   "metadata": {},
   "outputs": [],
   "source": [
    "X_train=pd.read_csv(\"X_train.csv\")\n",
    "y_train=pd.read_csv(\"y_train.csv\")"
   ]
  },
  {
   "cell_type": "code",
   "execution_count": 4,
   "metadata": {},
   "outputs": [],
   "source": [
    "X_val=pd.read_csv(\"X_val.csv\")\n",
    "y_val=pd.read_csv(\"y_val.csv\")"
   ]
  },
  {
   "cell_type": "code",
   "execution_count": 16,
   "metadata": {},
   "outputs": [],
   "source": [
    "X_test=pd.read_csv(\"X_test.csv\")\n",
    "y_test=pd.read_csv(\"y_test.csv\")"
   ]
  },
  {
   "cell_type": "code",
   "execution_count": 17,
   "metadata": {},
   "outputs": [],
   "source": [
    "sample_submission1=pd.read_csv(\"recruit-restaurant-visitor-forecasting (1)/sample_submission.csv/sample_Submission.csv\")"
   ]
  },
  {
   "cell_type": "code",
   "execution_count": 5,
   "metadata": {},
   "outputs": [],
   "source": [
    "def rmsle_score(y,y_pred): \n",
    "    \"\"\"\n",
    "    Compute the Root Mean Squared Log Error for prediction y_pred and targets y\n",
    "\n",
    "    Args:\n",
    "        y_pred - numpy array containing log of predictions \n",
    "        y - numpy array containing log of targets \n",
    "    \"\"\"\n",
    "    # to get anti- logs\n",
    "    y = np.expm1(y)\n",
    "    y_pred = np.expm1(y_pred)\n",
    "    \n",
    "    return np.sqrt(np.square(np.log(y_pred + 1) - np.log(y + 1)).mean())\n",
    "\n",
    "# scoring function\n",
    "score = make_scorer(rmsle_score, greater_is_better=False)"
   ]
  },
  {
   "cell_type": "markdown",
   "metadata": {},
   "source": [
    "#### Used GridSearchCV to find the best hyperparameters"
   ]
  },
  {
   "cell_type": "code",
   "execution_count": 7,
   "metadata": {},
   "outputs": [
    {
     "data": {
      "text/plain": [
       "GridSearchCV(cv=15, error_score=nan,\n",
       "             estimator=LGBMRegressor(boosting_type='gbdt', class_weight=None,\n",
       "                                     colsample_bytree=1.0,\n",
       "                                     importance_type='split', learning_rate=0.1,\n",
       "                                     max_depth=-1, min_child_samples=20,\n",
       "                                     min_child_weight=0.001, min_split_gain=0.0,\n",
       "                                     n_estimators=100, n_jobs=-1, num_leaves=31,\n",
       "                                     objective=None, random_state=None,\n",
       "                                     reg_alpha=0.0, reg_lambda=0.0,\n",
       "                                     silent='wa...\n",
       "                                     subsample_for_bin=200000,\n",
       "                                     subsample_freq=0),\n",
       "             iid='deprecated', n_jobs=-1,\n",
       "             param_grid={'colsample_bytree': [0.3, 0.4, 0.5],\n",
       "                         'learning_rate': [0.1, 0.01, 0.001],\n",
       "                         'min_child_weight': [0.001, 0.002, 0.05, 0.8, 0.9, 1],\n",
       "                         'subsample': [0.5, 0.6, 0.7, 1.0]},\n",
       "             pre_dispatch='2*n_jobs', refit=True, return_train_score=True,\n",
       "             scoring=make_scorer(rmsle_score, greater_is_better=False),\n",
       "             verbose=0)"
      ]
     },
     "execution_count": 7,
     "metadata": {},
     "output_type": "execute_result"
    }
   ],
   "source": [
    "# hyperparameters\n",
    "parameters = {'learning_rate':[0.1,0.01,0.001],\n",
    "              'min_child_weight':[0.001,0.002,0.05,0.8,0.9,1],\n",
    "              'subsample':[0.5,0.6,0.7,1.0],\n",
    "              'colsample_bytree':[0.3,0.4,0.5],\n",
    "             }\n",
    "\n",
    "\n",
    "# model\n",
    "lgb_reg = LGBMRegressor()\n",
    "\n",
    "# cross validation\n",
    "lgb_reg_cv = GridSearchCV(estimator=lgb_reg,\n",
    "                     param_grid=parameters,\n",
    "                     cv=15,\n",
    "                     return_train_score=True,\n",
    "                     n_jobs=-1,\n",
    "                     scoring=score)\n",
    "lgb_reg_cv.fit(X=X_train,y=np.log1p(y_train['visitors']))"
   ]
  },
  {
   "cell_type": "code",
   "execution_count": 8,
   "metadata": {},
   "outputs": [],
   "source": [
    "pd.DataFrame(lgb_reg_cv.cv_results_).to_csv('lgb_reg_cv.csv',index=False)"
   ]
  },
  {
   "cell_type": "code",
   "execution_count": 9,
   "metadata": {},
   "outputs": [
    {
     "data": {
      "text/plain": [
       "{'colsample_bytree': 0.5,\n",
       " 'learning_rate': 0.1,\n",
       " 'min_child_weight': 0.001,\n",
       " 'subsample': 0.5}"
      ]
     },
     "execution_count": 9,
     "metadata": {},
     "output_type": "execute_result"
    }
   ],
   "source": [
    "lgb_reg_cv.best_params_"
   ]
  },
  {
   "cell_type": "code",
   "execution_count": 12,
   "metadata": {},
   "outputs": [
    {
     "data": {
      "text/plain": [
       "LGBMRegressor(boosting_type='gbdt', class_weight=None, colsample_bytree=0.5,\n",
       "              importance_type='split', learning_rate=0.1, max_depth=-1,\n",
       "              min_child_samples=20, min_child_weight=0.001, min_split_gain=0.0,\n",
       "              n_estimators=100, n_jobs=-1, num_leaves=31, objective=None,\n",
       "              random_state=None, reg_alpha=0.0, reg_lambda=0.0, silent='warn',\n",
       "              subsample=0.5, subsample_for_bin=200000, subsample_freq=0)"
      ]
     },
     "execution_count": 12,
     "metadata": {},
     "output_type": "execute_result"
    }
   ],
   "source": [
    "# Fit the model with the best hyperparametes\n",
    "lgb_reg = LGBMRegressor(colsample_bytree= 0.5,\n",
    "                         learning_rate= 0.1,\n",
    "                         min_child_weight= 0.001,\n",
    "                         subsample= 0.5)\n",
    "lgb_reg.fit(X=X_train,\n",
    "            y=np.log1p(y_train['visitors']))"
   ]
  },
  {
   "cell_type": "code",
   "execution_count": 28,
   "metadata": {},
   "outputs": [],
   "source": [
    "y_pred=lgb_reg.predict(X_train)\n",
    "y_pred_val=lgb_reg.predict(X_val)"
   ]
  },
  {
   "cell_type": "code",
   "execution_count": 30,
   "metadata": {},
   "outputs": [],
   "source": [
    "def rmsle(y_true,y_pred): \n",
    "    \"\"\"\n",
    "    Compute the Root Mean Squared Log Error for prediction y_pred and targets y_true\n",
    "\n",
    "    Args:\n",
    "        y_pred - numpy array containing predictions \n",
    "        y_true - numpy array containing targets \n",
    "    \"\"\"\n",
    "    return np.sqrt(np.square(np.log(y_pred + 1) - np.log(y_true + 1)).mean())"
   ]
  },
  {
   "cell_type": "markdown",
   "metadata": {},
   "source": [
    "#### Evaluation metrics for both train and validation data"
   ]
  },
  {
   "cell_type": "code",
   "execution_count": 31,
   "metadata": {},
   "outputs": [
    {
     "name": "stdout",
     "output_type": "stream",
     "text": [
      "+-----------------+---------------------+--------------------+--------------------+-------------------+\n",
      "|  LGBMRegressor  |        RMSLE        |        RMSE        |        MSE         |        MAE        |\n",
      "+-----------------+---------------------+--------------------+--------------------+-------------------+\n",
      "|    Train data   | 0.49692104517030755 | 10.800775045372182 | 116.65674158073446 | 6.737899671655249 |\n",
      "| Validation data |  0.5119397271359493 | 11.557242969839622 | 133.56986506390737 | 6.877565602335381 |\n",
      "+-----------------+---------------------+--------------------+--------------------+-------------------+\n"
     ]
    }
   ],
   "source": [
    "from prettytable import PrettyTable\n",
    "    \n",
    "x = PrettyTable()\n",
    "\n",
    "x.field_names = [\"LGBMRegressor\", \"RMSLE\", \"RMSE\",\"MSE\",\"MAE\"]\n",
    "\n",
    "x.add_row([\"Train data\",\n",
    "           rmsle(y_true=(y_train['visitors']),y_pred=np.expm1(y_pred)),\n",
    "           math.sqrt(mse(np.expm1(y_pred),(y_train['visitors']))),\n",
    "           mse(np.expm1(y_pred),(y_train['visitors'])),\n",
    "           mae(np.expm1(y_pred),(y_train['visitors']))])\n",
    "x.add_row([\"Validation data\",\n",
    "           rmsle(y_true=(y_val['visitors']),y_pred=np.expm1(y_pred_val)),\n",
    "           math.sqrt(mse(np.expm1(y_pred_val),(y_val['visitors']))),\n",
    "           mse(np.expm1(y_pred_val),(y_val['visitors'])),\n",
    "           mae(np.expm1(y_pred_val),(y_val['visitors']))])\n",
    "\n",
    "print(x)"
   ]
  },
  {
   "cell_type": "markdown",
   "metadata": {},
   "source": [
    "#### Saving the model with pickle"
   ]
  },
  {
   "cell_type": "code",
   "execution_count": 43,
   "metadata": {},
   "outputs": [
    {
     "name": "stdout",
     "output_type": "stream",
     "text": [
      "0.5119397271359493\n"
     ]
    }
   ],
   "source": [
    "filename = 'lgb_model.sav'\n",
    "pickle.dump(lgb_reg, open(filename, 'wb'))\n",
    "loaded_model = pickle.load(open(filename, 'rb'))\n",
    "result = loaded_model.predict(X_val)\n",
    "print(rmsle(y_true=(y_val['visitors']),\n",
    "            y_pred=np.expm1(result)))"
   ]
  },
  {
   "cell_type": "markdown",
   "metadata": {},
   "source": [
    "#### Predict for the sample submission data and store it in the .csv file for submission in the kaggle"
   ]
  },
  {
   "cell_type": "code",
   "execution_count": 44,
   "metadata": {},
   "outputs": [],
   "source": [
    "y_test_pred=lgb_reg.predict(X_test)\n",
    "sample_submission1['visitors']=(np.expm1(y_test_pred)).astype(int)\n",
    "sample_submission1.to_csv(\"Sub_lgb.csv\",index=False)"
   ]
  },
  {
   "cell_type": "code",
   "execution_count": null,
   "metadata": {},
   "outputs": [],
   "source": []
  }
 ],
 "metadata": {
  "kernelspec": {
   "display_name": "Python 3",
   "language": "python",
   "name": "python3"
  },
  "language_info": {
   "codemirror_mode": {
    "name": "ipython",
    "version": 3
   },
   "file_extension": ".py",
   "mimetype": "text/x-python",
   "name": "python",
   "nbconvert_exporter": "python",
   "pygments_lexer": "ipython3",
   "version": "3.7.6"
  }
 },
 "nbformat": 4,
 "nbformat_minor": 4
}
