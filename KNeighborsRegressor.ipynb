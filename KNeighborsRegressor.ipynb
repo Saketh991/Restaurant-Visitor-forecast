{
 "cells": [
  {
   "cell_type": "markdown",
   "metadata": {},
   "source": [
    "#### Import necessary packages"
   ]
  },
  {
   "cell_type": "code",
   "execution_count": 62,
   "metadata": {},
   "outputs": [],
   "source": [
    "import pandas as pd\n",
    "import numpy as np\n",
    "import math\n",
    "import pickle\n",
    "from sklearn.metrics import make_scorer\n",
    "from sklearn.neighbors import KNeighborsRegressor\n",
    "from sklearn.model_selection import GridSearchCV\n",
    "import matplotlib.pyplot as plt\n",
    "from sklearn.metrics import mean_squared_error as mse\n",
    "from sklearn.metrics import mean_absolute_error as mae"
   ]
  },
  {
   "cell_type": "markdown",
   "metadata": {},
   "source": [
    "#### Load the datasets"
   ]
  },
  {
   "cell_type": "code",
   "execution_count": 59,
   "metadata": {},
   "outputs": [],
   "source": [
    "X_train=pd.read_csv(\"X_train.csv\")\n",
    "y_train=pd.read_csv(\"y_train.csv\")"
   ]
  },
  {
   "cell_type": "code",
   "execution_count": 35,
   "metadata": {},
   "outputs": [],
   "source": [
    "X_val=pd.read_csv(\"X_val.csv\")\n",
    "y_val=pd.read_csv(\"y_val.csv\")"
   ]
  },
  {
   "cell_type": "code",
   "execution_count": 7,
   "metadata": {},
   "outputs": [],
   "source": [
    "X_test=pd.read_csv(\"X_test.csv\")\n",
    "y_test=pd.read_csv(\"y_test.csv\")"
   ]
  },
  {
   "cell_type": "code",
   "execution_count": 8,
   "metadata": {},
   "outputs": [],
   "source": [
    "sample_submission1=pd.read_csv(\"recruit-restaurant-visitor-forecasting (1)/sample_submission.csv/sample_Submission.csv\")"
   ]
  },
  {
   "cell_type": "code",
   "execution_count": 58,
   "metadata": {},
   "outputs": [
    {
     "data": {
      "text/html": [
       "<div>\n",
       "<style scoped>\n",
       "    .dataframe tbody tr th:only-of-type {\n",
       "        vertical-align: middle;\n",
       "    }\n",
       "\n",
       "    .dataframe tbody tr th {\n",
       "        vertical-align: top;\n",
       "    }\n",
       "\n",
       "    .dataframe thead th {\n",
       "        text-align: right;\n",
       "    }\n",
       "</style>\n",
       "<table border=\"1\" class=\"dataframe\">\n",
       "  <thead>\n",
       "    <tr style=\"text-align: right;\">\n",
       "      <th></th>\n",
       "      <th>week</th>\n",
       "      <th>month</th>\n",
       "      <th>holiday_flg</th>\n",
       "      <th>mean_visitors</th>\n",
       "      <th>max_visitors</th>\n",
       "      <th>count_observations</th>\n",
       "      <th>air_genre_name</th>\n",
       "      <th>air_area_name</th>\n",
       "      <th>visitors_per_area</th>\n",
       "      <th>restaurants_per_area</th>\n",
       "      <th>rv1_x</th>\n",
       "      <th>date_int</th>\n",
       "      <th>air_store_id2</th>\n",
       "    </tr>\n",
       "  </thead>\n",
       "  <tbody>\n",
       "    <tr>\n",
       "      <th>0</th>\n",
       "      <td>2</td>\n",
       "      <td>1</td>\n",
       "      <td>0</td>\n",
       "      <td>23.843750</td>\n",
       "      <td>57.0</td>\n",
       "      <td>64.0</td>\n",
       "      <td>4.0</td>\n",
       "      <td>62.0</td>\n",
       "      <td>2488.0</td>\n",
       "      <td>56.0</td>\n",
       "      <td>-1.0</td>\n",
       "      <td>20160113</td>\n",
       "      <td>603</td>\n",
       "    </tr>\n",
       "    <tr>\n",
       "      <th>1</th>\n",
       "      <td>3</td>\n",
       "      <td>1</td>\n",
       "      <td>0</td>\n",
       "      <td>20.292308</td>\n",
       "      <td>54.0</td>\n",
       "      <td>65.0</td>\n",
       "      <td>4.0</td>\n",
       "      <td>62.0</td>\n",
       "      <td>2488.0</td>\n",
       "      <td>56.0</td>\n",
       "      <td>-1.0</td>\n",
       "      <td>20160114</td>\n",
       "      <td>603</td>\n",
       "    </tr>\n",
       "    <tr>\n",
       "      <th>2</th>\n",
       "      <td>4</td>\n",
       "      <td>1</td>\n",
       "      <td>0</td>\n",
       "      <td>34.738462</td>\n",
       "      <td>61.0</td>\n",
       "      <td>65.0</td>\n",
       "      <td>4.0</td>\n",
       "      <td>62.0</td>\n",
       "      <td>2488.0</td>\n",
       "      <td>56.0</td>\n",
       "      <td>-1.0</td>\n",
       "      <td>20160115</td>\n",
       "      <td>603</td>\n",
       "    </tr>\n",
       "    <tr>\n",
       "      <th>3</th>\n",
       "      <td>5</td>\n",
       "      <td>1</td>\n",
       "      <td>0</td>\n",
       "      <td>27.651515</td>\n",
       "      <td>53.0</td>\n",
       "      <td>66.0</td>\n",
       "      <td>4.0</td>\n",
       "      <td>62.0</td>\n",
       "      <td>2488.0</td>\n",
       "      <td>56.0</td>\n",
       "      <td>-1.0</td>\n",
       "      <td>20160116</td>\n",
       "      <td>603</td>\n",
       "    </tr>\n",
       "    <tr>\n",
       "      <th>4</th>\n",
       "      <td>0</td>\n",
       "      <td>1</td>\n",
       "      <td>0</td>\n",
       "      <td>13.754386</td>\n",
       "      <td>34.0</td>\n",
       "      <td>57.0</td>\n",
       "      <td>4.0</td>\n",
       "      <td>62.0</td>\n",
       "      <td>2488.0</td>\n",
       "      <td>56.0</td>\n",
       "      <td>-1.0</td>\n",
       "      <td>20160118</td>\n",
       "      <td>603</td>\n",
       "    </tr>\n",
       "    <tr>\n",
       "      <th>...</th>\n",
       "      <td>...</td>\n",
       "      <td>...</td>\n",
       "      <td>...</td>\n",
       "      <td>...</td>\n",
       "      <td>...</td>\n",
       "      <td>...</td>\n",
       "      <td>...</td>\n",
       "      <td>...</td>\n",
       "      <td>...</td>\n",
       "      <td>...</td>\n",
       "      <td>...</td>\n",
       "      <td>...</td>\n",
       "      <td>...</td>\n",
       "    </tr>\n",
       "    <tr>\n",
       "      <th>235547</th>\n",
       "      <td>5</td>\n",
       "      <td>3</td>\n",
       "      <td>0</td>\n",
       "      <td>5.289474</td>\n",
       "      <td>8.0</td>\n",
       "      <td>38.0</td>\n",
       "      <td>11.0</td>\n",
       "      <td>72.0</td>\n",
       "      <td>269.0</td>\n",
       "      <td>14.0</td>\n",
       "      <td>-1.0</td>\n",
       "      <td>20170325</td>\n",
       "      <td>98</td>\n",
       "    </tr>\n",
       "    <tr>\n",
       "      <th>235548</th>\n",
       "      <td>0</td>\n",
       "      <td>3</td>\n",
       "      <td>0</td>\n",
       "      <td>4.794118</td>\n",
       "      <td>8.0</td>\n",
       "      <td>34.0</td>\n",
       "      <td>11.0</td>\n",
       "      <td>72.0</td>\n",
       "      <td>269.0</td>\n",
       "      <td>14.0</td>\n",
       "      <td>-1.0</td>\n",
       "      <td>20170327</td>\n",
       "      <td>98</td>\n",
       "    </tr>\n",
       "    <tr>\n",
       "      <th>235549</th>\n",
       "      <td>1</td>\n",
       "      <td>3</td>\n",
       "      <td>0</td>\n",
       "      <td>5.615385</td>\n",
       "      <td>11.0</td>\n",
       "      <td>39.0</td>\n",
       "      <td>11.0</td>\n",
       "      <td>72.0</td>\n",
       "      <td>269.0</td>\n",
       "      <td>14.0</td>\n",
       "      <td>-1.0</td>\n",
       "      <td>20170328</td>\n",
       "      <td>98</td>\n",
       "    </tr>\n",
       "    <tr>\n",
       "      <th>235550</th>\n",
       "      <td>2</td>\n",
       "      <td>3</td>\n",
       "      <td>0</td>\n",
       "      <td>6.575000</td>\n",
       "      <td>25.0</td>\n",
       "      <td>40.0</td>\n",
       "      <td>11.0</td>\n",
       "      <td>72.0</td>\n",
       "      <td>269.0</td>\n",
       "      <td>14.0</td>\n",
       "      <td>-1.0</td>\n",
       "      <td>20170329</td>\n",
       "      <td>98</td>\n",
       "    </tr>\n",
       "    <tr>\n",
       "      <th>235551</th>\n",
       "      <td>3</td>\n",
       "      <td>3</td>\n",
       "      <td>0</td>\n",
       "      <td>5.394737</td>\n",
       "      <td>8.0</td>\n",
       "      <td>38.0</td>\n",
       "      <td>11.0</td>\n",
       "      <td>72.0</td>\n",
       "      <td>269.0</td>\n",
       "      <td>14.0</td>\n",
       "      <td>-1.0</td>\n",
       "      <td>20170330</td>\n",
       "      <td>98</td>\n",
       "    </tr>\n",
       "  </tbody>\n",
       "</table>\n",
       "<p>235552 rows × 13 columns</p>\n",
       "</div>"
      ],
      "text/plain": [
       "        week  month  holiday_flg  mean_visitors  max_visitors  \\\n",
       "0          2      1            0      23.843750          57.0   \n",
       "1          3      1            0      20.292308          54.0   \n",
       "2          4      1            0      34.738462          61.0   \n",
       "3          5      1            0      27.651515          53.0   \n",
       "4          0      1            0      13.754386          34.0   \n",
       "...      ...    ...          ...            ...           ...   \n",
       "235547     5      3            0       5.289474           8.0   \n",
       "235548     0      3            0       4.794118           8.0   \n",
       "235549     1      3            0       5.615385          11.0   \n",
       "235550     2      3            0       6.575000          25.0   \n",
       "235551     3      3            0       5.394737           8.0   \n",
       "\n",
       "        count_observations  air_genre_name  air_area_name  visitors_per_area  \\\n",
       "0                     64.0             4.0           62.0             2488.0   \n",
       "1                     65.0             4.0           62.0             2488.0   \n",
       "2                     65.0             4.0           62.0             2488.0   \n",
       "3                     66.0             4.0           62.0             2488.0   \n",
       "4                     57.0             4.0           62.0             2488.0   \n",
       "...                    ...             ...            ...                ...   \n",
       "235547                38.0            11.0           72.0              269.0   \n",
       "235548                34.0            11.0           72.0              269.0   \n",
       "235549                39.0            11.0           72.0              269.0   \n",
       "235550                40.0            11.0           72.0              269.0   \n",
       "235551                38.0            11.0           72.0              269.0   \n",
       "\n",
       "        restaurants_per_area  rv1_x  date_int  air_store_id2  \n",
       "0                       56.0   -1.0  20160113            603  \n",
       "1                       56.0   -1.0  20160114            603  \n",
       "2                       56.0   -1.0  20160115            603  \n",
       "3                       56.0   -1.0  20160116            603  \n",
       "4                       56.0   -1.0  20160118            603  \n",
       "...                      ...    ...       ...            ...  \n",
       "235547                  14.0   -1.0  20170325             98  \n",
       "235548                  14.0   -1.0  20170327             98  \n",
       "235549                  14.0   -1.0  20170328             98  \n",
       "235550                  14.0   -1.0  20170329             98  \n",
       "235551                  14.0   -1.0  20170330             98  \n",
       "\n",
       "[235552 rows x 13 columns]"
      ]
     },
     "execution_count": 58,
     "metadata": {},
     "output_type": "execute_result"
    }
   ],
   "source": [
    "X_train"
   ]
  },
  {
   "cell_type": "code",
   "execution_count": 2,
   "metadata": {},
   "outputs": [],
   "source": [
    "# Root Mean Squared logarithemic Error\n",
    "def rmsle_score(y,y_pred): \n",
    "    \"\"\"\n",
    "    Compute the Root Mean Squared Log Error for prediction y_pred and targets y\n",
    "\n",
    "    Args:\n",
    "        y_pred - numpy array containing log of predictions \n",
    "        y - numpy array containing log of targets \n",
    "    \"\"\"\n",
    "    # to get anti- logs\n",
    "    y = np.expm1(y)\n",
    "    y_pred = np.expm1(y_pred)\n",
    "    \n",
    "    return np.sqrt(np.square(np.log(y_pred + 1) - np.log(y + 1)).mean())\n",
    "\n",
    "# scoring function\n",
    "score = make_scorer(rmsle_score, greater_is_better=False)"
   ]
  },
  {
   "cell_type": "markdown",
   "metadata": {},
   "source": [
    "#### Used GridSearchCV to find best hyperparameters"
   ]
  },
  {
   "cell_type": "code",
   "execution_count": 29,
   "metadata": {},
   "outputs": [
    {
     "name": "stdout",
     "output_type": "stream",
     "text": [
      "Fitting 3 folds for each of 10 candidates, totalling 30 fits\n"
     ]
    },
    {
     "name": "stderr",
     "output_type": "stream",
     "text": [
      "[Parallel(n_jobs=-1)]: Using backend LokyBackend with 8 concurrent workers.\n",
      "[Parallel(n_jobs=-1)]: Done   2 tasks      | elapsed:   18.0s\n",
      "[Parallel(n_jobs=-1)]: Done   9 tasks      | elapsed:   36.4s\n",
      "[Parallel(n_jobs=-1)]: Done  19 out of  30 | elapsed:  1.3min remaining:   43.5s\n",
      "[Parallel(n_jobs=-1)]: Done  23 out of  30 | elapsed:  1.5min remaining:   27.0s\n",
      "[Parallel(n_jobs=-1)]: Done  27 out of  30 | elapsed:  1.8min remaining:   11.6s\n",
      "[Parallel(n_jobs=-1)]: Done  30 out of  30 | elapsed:  1.9min finished\n"
     ]
    },
    {
     "data": {
      "text/plain": [
       "GridSearchCV(cv=3, error_score=nan,\n",
       "             estimator=KNeighborsRegressor(algorithm='auto', leaf_size=30,\n",
       "                                           metric='minkowski',\n",
       "                                           metric_params=None, n_jobs=-1,\n",
       "                                           n_neighbors=5, p=2,\n",
       "                                           weights='uniform'),\n",
       "             iid='deprecated', n_jobs=-1,\n",
       "             param_grid={'n_neighbors': range(1, 20, 2)},\n",
       "             pre_dispatch='2*n_jobs', refit=True, return_train_score=True,\n",
       "             scoring=make_scorer(rmsle_score, greater_is_better=False),\n",
       "             verbose=10)"
      ]
     },
     "execution_count": 29,
     "metadata": {},
     "output_type": "execute_result"
    }
   ],
   "source": [
    "# hyperparameters\n",
    "parameters = {'n_neighbors':range(1,20,2)}\n",
    "\n",
    "# model\n",
    "knn = KNeighborsRegressor(n_jobs=-1)\n",
    "\n",
    "# cross validation\n",
    "knn_cv = GridSearchCV(estimator=knn,\n",
    "                      param_grid=parameters,\n",
    "                      scoring=score,\n",
    "                      n_jobs=-1,\n",
    "                      cv=3,\n",
    "                      verbose=10,\n",
    "                      return_train_score=True)\n",
    "knn_cv.fit(X_train,np.log1p(y_train['visitors']))"
   ]
  },
  {
   "cell_type": "code",
   "execution_count": 32,
   "metadata": {},
   "outputs": [],
   "source": [
    "# saving cross validation results\n",
    "pd.DataFrame(knn_cv.cv_results_).to_csv('KNN_cv_results.csv')"
   ]
  },
  {
   "cell_type": "code",
   "execution_count": 33,
   "metadata": {},
   "outputs": [
    {
     "data": {
      "image/png": "[encoded data removed]",
      "text/plain": [
       "<Figure size 432x288 with 1 Axes>"
      ]
     },
     "metadata": {
      "needs_background": "light"
     },
     "output_type": "display_data"
    }
   ],
   "source": [
    "# plotting Score vs hyperparameter plot\n",
    "cv_results = pd.read_csv('KNN_cv_results.csv')\n",
    "mean_train_score = -1 * cv_results.mean_train_score.values # -1 is to invert sign \n",
    "mean_test_score = -1 * cv_results.mean_test_score.values\n",
    "n_neighbors = cv_results.param_n_neighbors.values\n",
    "plt.plot(n_neighbors,mean_train_score,label='Train RMSLE')\n",
    "plt.plot(n_neighbors,mean_test_score,label='CV RMSLE')\n",
    "plt.scatter(n_neighbors,mean_train_score)\n",
    "plt.scatter(n_neighbors,mean_test_score)\n",
    "plt.xlabel('n_neighbors')\n",
    "plt.ylabel('RMSLE')\n",
    "plt.legend()\n",
    "plt.title('RMSLE vs n_neighbors plot')\n",
    "plt.show()\n"
   ]
  },
  {
   "cell_type": "code",
   "execution_count": 34,
   "metadata": {},
   "outputs": [
    {
     "data": {
      "text/plain": [
       "{'n_neighbors': 11}"
      ]
     },
     "execution_count": 34,
     "metadata": {},
     "output_type": "execute_result"
    }
   ],
   "source": [
    "knn_cv.best_params_"
   ]
  },
  {
   "cell_type": "code",
   "execution_count": 5,
   "metadata": {},
   "outputs": [
    {
     "data": {
      "text/plain": [
       "KNeighborsRegressor(n_neighbors=11)"
      ]
     },
     "execution_count": 5,
     "metadata": {},
     "output_type": "execute_result"
    }
   ],
   "source": [
    "knn = KNeighborsRegressor(n_neighbors=11)\n",
    "knn.fit(X_train,\n",
    "        np.log1p(y_train['visitors']))"
   ]
  },
  {
   "cell_type": "code",
   "execution_count": 54,
   "metadata": {},
   "outputs": [],
   "source": [
    "y_pred=knn.predict(X_train)\n",
    "y_pred_val=knn.predict(X_val)"
   ]
  },
  {
   "cell_type": "code",
   "execution_count": 55,
   "metadata": {},
   "outputs": [],
   "source": [
    "def rmsle(y_true,y_pred): \n",
    "    \"\"\"\n",
    "    Compute the Root Mean Squared Log Error for prediction y_pred and targets y_true\n",
    "\n",
    "    Args:\n",
    "        y_pred - numpy array containing predictions \n",
    "        y_true - numpy array containing targets \n",
    "    \"\"\"\n",
    "    return np.sqrt(np.square(np.log(y_pred + 1) - np.log(y_true + 1)).mean())"
   ]
  },
  {
   "cell_type": "markdown",
   "metadata": {},
   "source": [
    "#### Evaluation metrics for both train and validation data"
   ]
  },
  {
   "cell_type": "code",
   "execution_count": 57,
   "metadata": {},
   "outputs": [
    {
     "name": "stdout",
     "output_type": "stream",
     "text": [
      "+--------------------+--------------------+--------------------+--------------------+-------------------+\n",
      "| KNeighborRegressor |       RMSLE        |        RMSE        |        MSE         |        MAE        |\n",
      "+--------------------+--------------------+--------------------+--------------------+-------------------+\n",
      "|     Train data     | 0.4961178292183757 | 10.717100440465511 | 114.85624185102607 | 6.735427896837731 |\n",
      "|  Validation data   | 0.5862191012906472 | 13.073686313277271 | 170.92127381797343 | 8.204567899005424 |\n",
      "+--------------------+--------------------+--------------------+--------------------+-------------------+\n"
     ]
    }
   ],
   "source": [
    "from prettytable import PrettyTable\n",
    "    \n",
    "x = PrettyTable()\n",
    "\n",
    "x.field_names = [\"KNeighborRegressor\", \"RMSLE\", \"RMSE\",\"MSE\",\"MAE\"]\n",
    "\n",
    "x.add_row([\"Train data\",\n",
    "           rmsle(y_true=(y_train['visitors']),y_pred=np.expm1(y_pred)),\n",
    "           math.sqrt(mse(np.expm1(y_pred),(y_train['visitors']))),\n",
    "           mse(np.expm1(y_pred),(y_train['visitors'])),\n",
    "           mae(np.expm1(y_pred),(y_train['visitors']))])\n",
    "x.add_row([\"Validation data\",\n",
    "           rmsle(y_true=(y_val['visitors']),y_pred=np.expm1(y_pred_val)),\n",
    "           math.sqrt(mse(np.expm1(y_pred_val),(y_val['visitors']))),\n",
    "           mse(np.expm1(y_pred_val),(y_val['visitors'])),\n",
    "           mae(np.expm1(y_pred_val),(y_val['visitors']))])\n",
    "\n",
    "print(x)"
   ]
  },
  {
   "cell_type": "code",
   "execution_count": 63,
   "metadata": {},
   "outputs": [
    {
     "name": "stdout",
     "output_type": "stream",
     "text": [
      "0.5862191012906472\n"
     ]
    }
   ],
   "source": [
    "filename = 'knn_model.sav'\n",
    "pickle.dump(knn, open(filename, 'wb'))\n",
    "loaded_model = pickle.load(open(filename, 'rb'))\n",
    "result = loaded_model.predict(X_val)\n",
    "print(rmsle(y_true=(y_val['visitors']),\n",
    "            y_pred=np.expm1(result)))"
   ]
  },
  {
   "cell_type": "markdown",
   "metadata": {},
   "source": [
    "#### Predict for the sample submission data and store it in the .csv file for submission in the kaggle"
   ]
  },
  {
   "cell_type": "code",
   "execution_count": 65,
   "metadata": {},
   "outputs": [],
   "source": [
    "y_test_pred_knn=knn.predict(X_test)\n",
    "sample_submission1['visitors']=(np.expm1(values)).astype(int)\n",
    "sample_submission1.to_csv(\"Sub_knn.csv\",index=False)"
   ]
  },
  {
   "cell_type": "code",
   "execution_count": null,
   "metadata": {},
   "outputs": [],
   "source": []
  }
 ],
 "metadata": {
  "kernelspec": {
   "display_name": "Python 3",
   "language": "python",
   "name": "python3"
  },
  "language_info": {
   "codemirror_mode": {
    "name": "ipython",
    "version": 3
   },
   "file_extension": ".py",
   "mimetype": "text/x-python",
   "name": "python",
   "nbconvert_exporter": "python",
   "pygments_lexer": "ipython3",
   "version": "3.7.6"
  }
 },
 "nbformat": 4,
 "nbformat_minor": 4
}
